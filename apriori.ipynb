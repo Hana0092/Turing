{
 "cells": [
  {
   "cell_type": "code",
   "execution_count": 2,
   "id": "630ec85e",
   "metadata": {},
   "outputs": [],
   "source": [
    "import pandas as pd\n",
    "import numpy as np\n",
    "import seaborn as sns"
   ]
  },
  {
   "cell_type": "markdown",
   "id": "88f68efb",
   "metadata": {},
   "source": [
    "## Import data"
   ]
  },
  {
   "cell_type": "code",
   "execution_count": 3,
   "id": "6dc32bc5",
   "metadata": {},
   "outputs": [],
   "source": [
    "df=pd.read_csv('Final_Dataset.csv')"
   ]
  },
  {
   "cell_type": "code",
   "execution_count": 4,
   "id": "2bb5d105",
   "metadata": {
    "scrolled": true
   },
   "outputs": [
    {
     "name": "stdout",
     "output_type": "stream",
     "text": [
      "<class 'pandas.core.frame.DataFrame'>\n",
      "RangeIndex: 3598607 entries, 0 to 3598606\n",
      "Data columns (total 13 columns):\n",
      " #   Column            Dtype \n",
      "---  ------            ----- \n",
      " 0   Unnamed: 0        int64 \n",
      " 1   date_             object\n",
      " 2   user_id_maped     int64 \n",
      " 3   program_name      object\n",
      " 4   duration_seconds  int64 \n",
      " 5   program_class     object\n",
      " 6   season            int64 \n",
      " 7   episode           int64 \n",
      " 8   program_desc      object\n",
      " 9   program_genre     object\n",
      " 10  series_title      int64 \n",
      " 11  hd                int64 \n",
      " 12  original_name     object\n",
      "dtypes: int64(7), object(6)\n",
      "memory usage: 356.9+ MB\n"
     ]
    }
   ],
   "source": [
    "df.info()"
   ]
  },
  {
   "cell_type": "code",
   "execution_count": 5,
   "id": "03a06ae5",
   "metadata": {},
   "outputs": [],
   "source": [
    "# Creating a function which will remove extra leading\n",
    "# and tailing whitespace from the data.\n",
    "# pass dataframe as a parameter here\n",
    "def whitespace_remover(dataframe):\n",
    "   \n",
    "    # iterating over the columns\n",
    "    for i in dataframe.columns:\n",
    "         \n",
    "        # checking datatype of each columns\n",
    "        if dataframe[i].dtype == 'object':\n",
    "             \n",
    "            # applying strip function on column\n",
    "            dataframe[i] = dataframe[i].str.strip()\n",
    "        else:\n",
    "             \n",
    "            # if condn. is False then it will do nothing.\n",
    "            pass"
   ]
  },
  {
   "cell_type": "markdown",
   "id": "ae50820f",
   "metadata": {},
   "source": [
    "Strip the white space before and after strings"
   ]
  },
  {
   "cell_type": "code",
   "execution_count": 6,
   "id": "ac3556c1",
   "metadata": {},
   "outputs": [],
   "source": [
    "whitespace_remover(df)"
   ]
  },
  {
   "cell_type": "markdown",
   "id": "6101a43f",
   "metadata": {},
   "source": [
    "Number of unique useres"
   ]
  },
  {
   "cell_type": "code",
   "execution_count": 7,
   "id": "7a638074",
   "metadata": {},
   "outputs": [
    {
     "data": {
      "text/plain": [
       "29487"
      ]
     },
     "execution_count": 7,
     "metadata": {},
     "output_type": "execute_result"
    }
   ],
   "source": [
    "df.user_id_maped.nunique()"
   ]
  },
  {
   "cell_type": "markdown",
   "id": "c0963d89",
   "metadata": {},
   "source": [
    "Number of unique MOVIEs & SERIES"
   ]
  },
  {
   "cell_type": "code",
   "execution_count": 8,
   "id": "6978c74b",
   "metadata": {
    "scrolled": true
   },
   "outputs": [
    {
     "data": {
      "text/html": [
       "<div>\n",
       "<style scoped>\n",
       "    .dataframe tbody tr th:only-of-type {\n",
       "        vertical-align: middle;\n",
       "    }\n",
       "\n",
       "    .dataframe tbody tr th {\n",
       "        vertical-align: top;\n",
       "    }\n",
       "\n",
       "    .dataframe thead th {\n",
       "        text-align: right;\n",
       "    }\n",
       "</style>\n",
       "<table border=\"1\" class=\"dataframe\">\n",
       "  <thead>\n",
       "    <tr style=\"text-align: right;\">\n",
       "      <th></th>\n",
       "      <th>original_name</th>\n",
       "    </tr>\n",
       "    <tr>\n",
       "      <th>program_class</th>\n",
       "      <th></th>\n",
       "    </tr>\n",
       "  </thead>\n",
       "  <tbody>\n",
       "    <tr>\n",
       "      <th>MOVIE</th>\n",
       "      <td>1525</td>\n",
       "    </tr>\n",
       "    <tr>\n",
       "      <th>SERIES/EPISODES</th>\n",
       "      <td>276</td>\n",
       "    </tr>\n",
       "  </tbody>\n",
       "</table>\n",
       "</div>"
      ],
      "text/plain": [
       "                 original_name\n",
       "program_class                 \n",
       "MOVIE                     1525\n",
       "SERIES/EPISODES            276"
      ]
     },
     "execution_count": 8,
     "metadata": {},
     "output_type": "execute_result"
    }
   ],
   "source": [
    "df[['program_class','original_name']].groupby(by='program_class').nunique()"
   ]
  },
  {
   "cell_type": "markdown",
   "id": "b281e464",
   "metadata": {},
   "source": [
    "if series_title = 1 then there is no episode name, the stats for the season itself"
   ]
  },
  {
   "cell_type": "code",
   "execution_count": 9,
   "id": "bdb50619",
   "metadata": {},
   "outputs": [],
   "source": [
    "df[[\"year\",\"month\",\"day\"]] = df[\"date_\"].str.split(\"-\", expand = True)"
   ]
  },
  {
   "cell_type": "code",
   "execution_count": 10,
   "id": "82a9622c",
   "metadata": {},
   "outputs": [],
   "source": [
    "df=df.drop(['Unnamed: 0','date_'], axis=1)"
   ]
  },
  {
   "cell_type": "code",
   "execution_count": 11,
   "id": "20ef6c61",
   "metadata": {},
   "outputs": [],
   "source": [
    "df.rename(columns = {'user_id_maped':'user_id','original_name':'movie/series_name',\n",
    "                     'program_name':'movie/episode_name'}, inplace = True)\n",
    "df = df[[ 'year','month','day','user_id','movie/series_name','season','episode','movie/episode_name',\n",
    "         'duration_seconds','program_class','program_genre','series_title','hd','program_desc',]]\n"
   ]
  },
  {
   "cell_type": "code",
   "execution_count": 12,
   "id": "4d285d6e",
   "metadata": {},
   "outputs": [],
   "source": [
    "df_1=df[df.series_title == 1] # only seasons"
   ]
  },
  {
   "cell_type": "code",
   "execution_count": 13,
   "id": "d3c26981",
   "metadata": {},
   "outputs": [],
   "source": [
    "df_0=df[df.series_title == 0] # Movies and EPISODES"
   ]
  },
  {
   "cell_type": "code",
   "execution_count": 14,
   "id": "c2fac6f4",
   "metadata": {},
   "outputs": [
    {
     "data": {
      "text/plain": [
       "count    3.555946e+06\n",
       "mean     1.191115e+03\n",
       "std      6.266378e+03\n",
       "min      2.000000e+00\n",
       "25%      6.000000e+01\n",
       "50%      1.940000e+02\n",
       "75%      1.329000e+03\n",
       "max      2.053603e+06\n",
       "Name: duration_seconds, dtype: float64"
      ]
     },
     "execution_count": 14,
     "metadata": {},
     "output_type": "execute_result"
    }
   ],
   "source": [
    "df_0.duration_seconds.describe()"
   ]
  },
  {
   "cell_type": "markdown",
   "id": "ba9167c1",
   "metadata": {},
   "source": [
    "we have outliers in the duration_seconds we have to clean it "
   ]
  },
  {
   "cell_type": "markdown",
   "id": "c3c4a976",
   "metadata": {},
   "source": [
    "any recored with duration_seconds more than 2.4 hours will be deleted "
   ]
  },
  {
   "cell_type": "code",
   "execution_count": 15,
   "id": "2efebeb8",
   "metadata": {},
   "outputs": [],
   "source": [
    "df_0=df_0[df_0.duration_seconds<8640]"
   ]
  },
  {
   "cell_type": "code",
   "execution_count": 16,
   "id": "56b98f05",
   "metadata": {
    "scrolled": true
   },
   "outputs": [],
   "source": [
    "#sns.histplot(data=df_0, x=\"duration_seconds\",hue='program_class')"
   ]
  },
  {
   "cell_type": "code",
   "execution_count": 17,
   "id": "7a09fba4",
   "metadata": {},
   "outputs": [
    {
     "data": {
      "text/plain": [
       "90      47811\n",
       "6       44522\n",
       "4       40623\n",
       "2       40178\n",
       "5       39780\n",
       "        ...  \n",
       "5037       31\n",
       "6566       31\n",
       "4532       31\n",
       "5406       31\n",
       "5015       31\n",
       "Name: duration_seconds, Length: 5721, dtype: int64"
      ]
     },
     "execution_count": 17,
     "metadata": {},
     "output_type": "execute_result"
    }
   ],
   "source": [
    "df_0.duration_seconds.value_counts()[df_0.duration_seconds.value_counts()>30]"
   ]
  },
  {
   "cell_type": "code",
   "execution_count": 18,
   "id": "b6abe383",
   "metadata": {},
   "outputs": [],
   "source": [
    "df_0=df_0[df_0.duration_seconds<4000]"
   ]
  },
  {
   "cell_type": "code",
   "execution_count": 19,
   "id": "222766ee",
   "metadata": {
    "scrolled": false
   },
   "outputs": [],
   "source": [
    "#sns.displot(data=df_0, x=\"duration_seconds\",col='program_class',kind='hist');"
   ]
  },
  {
   "cell_type": "markdown",
   "id": "de3a2f3f",
   "metadata": {},
   "source": [
    "movie duration_seconds can not be used to find the run time so I will choose 1 hour and 20 minutes as average runtime for movies"
   ]
  },
  {
   "cell_type": "code",
   "execution_count": 20,
   "id": "f3aadecc",
   "metadata": {},
   "outputs": [],
   "source": [
    "#sns.boxplot(y=\"duration_seconds\",x='program_class',data=df_0)"
   ]
  },
  {
   "cell_type": "markdown",
   "id": "2d8da02b",
   "metadata": {},
   "source": [
    "### Runtime for each Movie/Series"
   ]
  },
  {
   "cell_type": "code",
   "execution_count": 21,
   "id": "e3c0263b",
   "metadata": {
    "scrolled": true
   },
   "outputs": [],
   "source": [
    "df_0['runtime']=df_0.groupby(by=['movie/series_name','season'])['duration_seconds'].transform(lambda x: x.quantile(.9))"
   ]
  },
  {
   "cell_type": "markdown",
   "id": "6ea9f87e",
   "metadata": {},
   "source": [
    "### Numbrer of Views per Movie/Episode"
   ]
  },
  {
   "cell_type": "code",
   "execution_count": 22,
   "id": "98c3eb47",
   "metadata": {
    "scrolled": true
   },
   "outputs": [],
   "source": [
    "df_0['number_views']=df_0.groupby(['movie/series_name','season','episode'])['duration_seconds'].transform(lambda x: x.count())"
   ]
  },
  {
   "cell_type": "code",
   "execution_count": 23,
   "id": "07724617",
   "metadata": {},
   "outputs": [],
   "source": [
    "df_0.loc[((df_0.program_class == \"MOVIE\")&(df_0.runtime < 600)|(df_0.number_views < 30)), 'runtime'] = 4800"
   ]
  },
  {
   "cell_type": "code",
   "execution_count": 24,
   "id": "d69ffeec",
   "metadata": {},
   "outputs": [
    {
     "data": {
      "text/plain": [
       "(3397189, 16)"
      ]
     },
     "execution_count": 24,
     "metadata": {},
     "output_type": "execute_result"
    }
   ],
   "source": [
    "df_0.shape"
   ]
  },
  {
   "cell_type": "markdown",
   "id": "bbf50e29",
   "metadata": {},
   "source": [
    "### Create Like_it? "
   ]
  },
  {
   "cell_type": "code",
   "execution_count": 25,
   "id": "a7db7050",
   "metadata": {
    "scrolled": false
   },
   "outputs": [],
   "source": [
    "df_0['Like_it?']=df_0.duration_seconds/df_0.runtime"
   ]
  },
  {
   "cell_type": "code",
   "execution_count": 26,
   "id": "e5488aae",
   "metadata": {},
   "outputs": [],
   "source": [
    "def map_value(x): \n",
    "    if (x >= 0.75):\n",
    "        return 1\n",
    "    else:\n",
    "        return 0\n",
    "\n",
    "df_0['Like_it?'] = df_0['Like_it?'].apply(map_value)"
   ]
  },
  {
   "cell_type": "code",
   "execution_count": 27,
   "id": "0593e2b5",
   "metadata": {
    "scrolled": false
   },
   "outputs": [
    {
     "data": {
      "text/html": [
       "<div>\n",
       "<style scoped>\n",
       "    .dataframe tbody tr th:only-of-type {\n",
       "        vertical-align: middle;\n",
       "    }\n",
       "\n",
       "    .dataframe tbody tr th {\n",
       "        vertical-align: top;\n",
       "    }\n",
       "\n",
       "    .dataframe thead th {\n",
       "        text-align: right;\n",
       "    }\n",
       "</style>\n",
       "<table border=\"1\" class=\"dataframe\">\n",
       "  <thead>\n",
       "    <tr style=\"text-align: right;\">\n",
       "      <th></th>\n",
       "      <th>year</th>\n",
       "      <th>month</th>\n",
       "      <th>day</th>\n",
       "      <th>user_id</th>\n",
       "      <th>movie/series_name</th>\n",
       "      <th>season</th>\n",
       "      <th>episode</th>\n",
       "      <th>movie/episode_name</th>\n",
       "      <th>duration_seconds</th>\n",
       "      <th>program_class</th>\n",
       "      <th>program_genre</th>\n",
       "      <th>series_title</th>\n",
       "      <th>hd</th>\n",
       "      <th>program_desc</th>\n",
       "      <th>runtime</th>\n",
       "      <th>number_views</th>\n",
       "      <th>Like_it?</th>\n",
       "    </tr>\n",
       "  </thead>\n",
       "  <tbody>\n",
       "    <tr>\n",
       "      <th>0</th>\n",
       "      <td>2017</td>\n",
       "      <td>05</td>\n",
       "      <td>27</td>\n",
       "      <td>26138</td>\n",
       "      <td>100 treets</td>\n",
       "      <td>0</td>\n",
       "      <td>0</td>\n",
       "      <td>100 treets</td>\n",
       "      <td>40</td>\n",
       "      <td>MOVIE</td>\n",
       "      <td>Drama</td>\n",
       "      <td>0</td>\n",
       "      <td>0</td>\n",
       "      <td>Drama Movie100 Streets</td>\n",
       "      <td>4800.0</td>\n",
       "      <td>3756</td>\n",
       "      <td>0</td>\n",
       "    </tr>\n",
       "    <tr>\n",
       "      <th>1</th>\n",
       "      <td>2017</td>\n",
       "      <td>05</td>\n",
       "      <td>21</td>\n",
       "      <td>7946</td>\n",
       "      <td>Moana</td>\n",
       "      <td>0</td>\n",
       "      <td>0</td>\n",
       "      <td>Moana</td>\n",
       "      <td>17</td>\n",
       "      <td>MOVIE</td>\n",
       "      <td>Animation</td>\n",
       "      <td>0</td>\n",
       "      <td>1</td>\n",
       "      <td>Animation MovieMoana (HD)</td>\n",
       "      <td>4800.0</td>\n",
       "      <td>23903</td>\n",
       "      <td>0</td>\n",
       "    </tr>\n",
       "    <tr>\n",
       "      <th>2</th>\n",
       "      <td>2017</td>\n",
       "      <td>08</td>\n",
       "      <td>10</td>\n",
       "      <td>7418</td>\n",
       "      <td>The Mermaid Princess</td>\n",
       "      <td>0</td>\n",
       "      <td>0</td>\n",
       "      <td>The Mermaid Princess</td>\n",
       "      <td>8</td>\n",
       "      <td>MOVIE</td>\n",
       "      <td>Animation</td>\n",
       "      <td>0</td>\n",
       "      <td>1</td>\n",
       "      <td>Animation MovieThe Mermaid Princess (HD)</td>\n",
       "      <td>4800.0</td>\n",
       "      <td>21167</td>\n",
       "      <td>0</td>\n",
       "    </tr>\n",
       "    <tr>\n",
       "      <th>3</th>\n",
       "      <td>2017</td>\n",
       "      <td>07</td>\n",
       "      <td>26</td>\n",
       "      <td>19307</td>\n",
       "      <td>The Mermaid Princess</td>\n",
       "      <td>0</td>\n",
       "      <td>0</td>\n",
       "      <td>The Mermaid Princess</td>\n",
       "      <td>76</td>\n",
       "      <td>MOVIE</td>\n",
       "      <td>Animation</td>\n",
       "      <td>0</td>\n",
       "      <td>1</td>\n",
       "      <td>Animation MovieThe Mermaid Princess (HD)</td>\n",
       "      <td>4800.0</td>\n",
       "      <td>21167</td>\n",
       "      <td>0</td>\n",
       "    </tr>\n",
       "    <tr>\n",
       "      <th>4</th>\n",
       "      <td>2017</td>\n",
       "      <td>07</td>\n",
       "      <td>07</td>\n",
       "      <td>15860</td>\n",
       "      <td>Churchill</td>\n",
       "      <td>0</td>\n",
       "      <td>0</td>\n",
       "      <td>Churchill</td>\n",
       "      <td>87</td>\n",
       "      <td>MOVIE</td>\n",
       "      <td>Biography</td>\n",
       "      <td>0</td>\n",
       "      <td>1</td>\n",
       "      <td>Biography MovieChurchill (HD)</td>\n",
       "      <td>4800.0</td>\n",
       "      <td>2857</td>\n",
       "      <td>0</td>\n",
       "    </tr>\n",
       "  </tbody>\n",
       "</table>\n",
       "</div>"
      ],
      "text/plain": [
       "   year month day  user_id     movie/series_name  season  episode  \\\n",
       "0  2017    05  27    26138            100 treets       0        0   \n",
       "1  2017    05  21     7946                 Moana       0        0   \n",
       "2  2017    08  10     7418  The Mermaid Princess       0        0   \n",
       "3  2017    07  26    19307  The Mermaid Princess       0        0   \n",
       "4  2017    07  07    15860             Churchill       0        0   \n",
       "\n",
       "     movie/episode_name  duration_seconds program_class program_genre  \\\n",
       "0            100 treets                40         MOVIE         Drama   \n",
       "1                 Moana                17         MOVIE     Animation   \n",
       "2  The Mermaid Princess                 8         MOVIE     Animation   \n",
       "3  The Mermaid Princess                76         MOVIE     Animation   \n",
       "4             Churchill                87         MOVIE     Biography   \n",
       "\n",
       "   series_title  hd                              program_desc  runtime  \\\n",
       "0             0   0                    Drama Movie100 Streets   4800.0   \n",
       "1             0   1                 Animation MovieMoana (HD)   4800.0   \n",
       "2             0   1  Animation MovieThe Mermaid Princess (HD)   4800.0   \n",
       "3             0   1  Animation MovieThe Mermaid Princess (HD)   4800.0   \n",
       "4             0   1             Biography MovieChurchill (HD)   4800.0   \n",
       "\n",
       "   number_views  Like_it?  \n",
       "0          3756         0  \n",
       "1         23903         0  \n",
       "2         21167         0  \n",
       "3         21167         0  \n",
       "4          2857         0  "
      ]
     },
     "execution_count": 27,
     "metadata": {},
     "output_type": "execute_result"
    }
   ],
   "source": [
    "df_0.head()"
   ]
  },
  {
   "cell_type": "code",
   "execution_count": 28,
   "id": "c76b61b8",
   "metadata": {},
   "outputs": [],
   "source": [
    "#df_0.program_genre.value_counts()"
   ]
  },
  {
   "cell_type": "code",
   "execution_count": 29,
   "id": "98f4746e",
   "metadata": {},
   "outputs": [
    {
     "data": {
      "text/html": [
       "<div>\n",
       "<style scoped>\n",
       "    .dataframe tbody tr th:only-of-type {\n",
       "        vertical-align: middle;\n",
       "    }\n",
       "\n",
       "    .dataframe tbody tr th {\n",
       "        vertical-align: top;\n",
       "    }\n",
       "\n",
       "    .dataframe thead th {\n",
       "        text-align: right;\n",
       "    }\n",
       "</style>\n",
       "<table border=\"1\" class=\"dataframe\">\n",
       "  <thead>\n",
       "    <tr style=\"text-align: right;\">\n",
       "      <th></th>\n",
       "      <th>year</th>\n",
       "      <th>month</th>\n",
       "      <th>day</th>\n",
       "      <th>user_id</th>\n",
       "      <th>movie/series_name</th>\n",
       "      <th>season</th>\n",
       "      <th>episode</th>\n",
       "      <th>movie/episode_name</th>\n",
       "      <th>duration_seconds</th>\n",
       "      <th>program_class</th>\n",
       "      <th>program_genre</th>\n",
       "      <th>series_title</th>\n",
       "      <th>hd</th>\n",
       "      <th>program_desc</th>\n",
       "      <th>runtime</th>\n",
       "      <th>number_views</th>\n",
       "      <th>Like_it?</th>\n",
       "    </tr>\n",
       "  </thead>\n",
       "  <tbody>\n",
       "    <tr>\n",
       "      <th>0</th>\n",
       "      <td>2017</td>\n",
       "      <td>05</td>\n",
       "      <td>27</td>\n",
       "      <td>26138</td>\n",
       "      <td>100 treets</td>\n",
       "      <td>0</td>\n",
       "      <td>0</td>\n",
       "      <td>100 treets</td>\n",
       "      <td>40</td>\n",
       "      <td>MOVIE</td>\n",
       "      <td>Drama</td>\n",
       "      <td>0</td>\n",
       "      <td>0</td>\n",
       "      <td>Drama Movie100 Streets</td>\n",
       "      <td>4800.0</td>\n",
       "      <td>3756</td>\n",
       "      <td>0</td>\n",
       "    </tr>\n",
       "    <tr>\n",
       "      <th>1</th>\n",
       "      <td>2017</td>\n",
       "      <td>05</td>\n",
       "      <td>21</td>\n",
       "      <td>7946</td>\n",
       "      <td>Moana</td>\n",
       "      <td>0</td>\n",
       "      <td>0</td>\n",
       "      <td>Moana</td>\n",
       "      <td>17</td>\n",
       "      <td>MOVIE</td>\n",
       "      <td>Animation</td>\n",
       "      <td>0</td>\n",
       "      <td>1</td>\n",
       "      <td>Animation MovieMoana (HD)</td>\n",
       "      <td>4800.0</td>\n",
       "      <td>23903</td>\n",
       "      <td>0</td>\n",
       "    </tr>\n",
       "    <tr>\n",
       "      <th>2</th>\n",
       "      <td>2017</td>\n",
       "      <td>08</td>\n",
       "      <td>10</td>\n",
       "      <td>7418</td>\n",
       "      <td>The Mermaid Princess</td>\n",
       "      <td>0</td>\n",
       "      <td>0</td>\n",
       "      <td>The Mermaid Princess</td>\n",
       "      <td>8</td>\n",
       "      <td>MOVIE</td>\n",
       "      <td>Animation</td>\n",
       "      <td>0</td>\n",
       "      <td>1</td>\n",
       "      <td>Animation MovieThe Mermaid Princess (HD)</td>\n",
       "      <td>4800.0</td>\n",
       "      <td>21167</td>\n",
       "      <td>0</td>\n",
       "    </tr>\n",
       "    <tr>\n",
       "      <th>3</th>\n",
       "      <td>2017</td>\n",
       "      <td>07</td>\n",
       "      <td>26</td>\n",
       "      <td>19307</td>\n",
       "      <td>The Mermaid Princess</td>\n",
       "      <td>0</td>\n",
       "      <td>0</td>\n",
       "      <td>The Mermaid Princess</td>\n",
       "      <td>76</td>\n",
       "      <td>MOVIE</td>\n",
       "      <td>Animation</td>\n",
       "      <td>0</td>\n",
       "      <td>1</td>\n",
       "      <td>Animation MovieThe Mermaid Princess (HD)</td>\n",
       "      <td>4800.0</td>\n",
       "      <td>21167</td>\n",
       "      <td>0</td>\n",
       "    </tr>\n",
       "    <tr>\n",
       "      <th>4</th>\n",
       "      <td>2017</td>\n",
       "      <td>07</td>\n",
       "      <td>07</td>\n",
       "      <td>15860</td>\n",
       "      <td>Churchill</td>\n",
       "      <td>0</td>\n",
       "      <td>0</td>\n",
       "      <td>Churchill</td>\n",
       "      <td>87</td>\n",
       "      <td>MOVIE</td>\n",
       "      <td>Biography</td>\n",
       "      <td>0</td>\n",
       "      <td>1</td>\n",
       "      <td>Biography MovieChurchill (HD)</td>\n",
       "      <td>4800.0</td>\n",
       "      <td>2857</td>\n",
       "      <td>0</td>\n",
       "    </tr>\n",
       "    <tr>\n",
       "      <th>...</th>\n",
       "      <td>...</td>\n",
       "      <td>...</td>\n",
       "      <td>...</td>\n",
       "      <td>...</td>\n",
       "      <td>...</td>\n",
       "      <td>...</td>\n",
       "      <td>...</td>\n",
       "      <td>...</td>\n",
       "      <td>...</td>\n",
       "      <td>...</td>\n",
       "      <td>...</td>\n",
       "      <td>...</td>\n",
       "      <td>...</td>\n",
       "      <td>...</td>\n",
       "      <td>...</td>\n",
       "      <td>...</td>\n",
       "      <td>...</td>\n",
       "    </tr>\n",
       "    <tr>\n",
       "      <th>3598602</th>\n",
       "      <td>2017</td>\n",
       "      <td>08</td>\n",
       "      <td>22</td>\n",
       "      <td>10486</td>\n",
       "      <td>Table</td>\n",
       "      <td>0</td>\n",
       "      <td>0</td>\n",
       "      <td>Table</td>\n",
       "      <td>8</td>\n",
       "      <td>MOVIE</td>\n",
       "      <td>Comedy</td>\n",
       "      <td>0</td>\n",
       "      <td>1</td>\n",
       "      <td>Comedy MovieTable 19 (HD)</td>\n",
       "      <td>4800.0</td>\n",
       "      <td>5205</td>\n",
       "      <td>0</td>\n",
       "    </tr>\n",
       "    <tr>\n",
       "      <th>3598603</th>\n",
       "      <td>2017</td>\n",
       "      <td>08</td>\n",
       "      <td>22</td>\n",
       "      <td>10486</td>\n",
       "      <td>Newsies: the Broadway Musical</td>\n",
       "      <td>0</td>\n",
       "      <td>0</td>\n",
       "      <td>Newsies: the Broadway Musical</td>\n",
       "      <td>3</td>\n",
       "      <td>MOVIE</td>\n",
       "      <td>Family</td>\n",
       "      <td>0</td>\n",
       "      <td>1</td>\n",
       "      <td>Family MovieNewsies: the Broadway Musical (HD)</td>\n",
       "      <td>4800.0</td>\n",
       "      <td>372</td>\n",
       "      <td>0</td>\n",
       "    </tr>\n",
       "    <tr>\n",
       "      <th>3598604</th>\n",
       "      <td>2018</td>\n",
       "      <td>01</td>\n",
       "      <td>31</td>\n",
       "      <td>3674</td>\n",
       "      <td>Dragon Ball Z: Resurrection F</td>\n",
       "      <td>0</td>\n",
       "      <td>0</td>\n",
       "      <td>Dragon Ball Z: Resurrection F</td>\n",
       "      <td>7</td>\n",
       "      <td>MOVIE</td>\n",
       "      <td>Animation</td>\n",
       "      <td>0</td>\n",
       "      <td>0</td>\n",
       "      <td>Animation MovieDragon Ball Z: Resurrection F</td>\n",
       "      <td>4800.0</td>\n",
       "      <td>8312</td>\n",
       "      <td>0</td>\n",
       "    </tr>\n",
       "    <tr>\n",
       "      <th>3598605</th>\n",
       "      <td>2017</td>\n",
       "      <td>09</td>\n",
       "      <td>19</td>\n",
       "      <td>717</td>\n",
       "      <td>Table</td>\n",
       "      <td>0</td>\n",
       "      <td>0</td>\n",
       "      <td>Table</td>\n",
       "      <td>97</td>\n",
       "      <td>MOVIE</td>\n",
       "      <td>Comedy</td>\n",
       "      <td>0</td>\n",
       "      <td>1</td>\n",
       "      <td>Comedy MovieTable 19 (HD)</td>\n",
       "      <td>4800.0</td>\n",
       "      <td>5205</td>\n",
       "      <td>0</td>\n",
       "    </tr>\n",
       "    <tr>\n",
       "      <th>3598606</th>\n",
       "      <td>2017</td>\n",
       "      <td>10</td>\n",
       "      <td>30</td>\n",
       "      <td>717</td>\n",
       "      <td>Unforgettable</td>\n",
       "      <td>0</td>\n",
       "      <td>0</td>\n",
       "      <td>Unforgettable</td>\n",
       "      <td>95</td>\n",
       "      <td>MOVIE</td>\n",
       "      <td>Drama</td>\n",
       "      <td>0</td>\n",
       "      <td>1</td>\n",
       "      <td>Drama MovieUnforgettable (HD)</td>\n",
       "      <td>4800.0</td>\n",
       "      <td>11515</td>\n",
       "      <td>0</td>\n",
       "    </tr>\n",
       "  </tbody>\n",
       "</table>\n",
       "<p>3397189 rows × 17 columns</p>\n",
       "</div>"
      ],
      "text/plain": [
       "         year month day  user_id              movie/series_name  season  \\\n",
       "0        2017    05  27    26138                     100 treets       0   \n",
       "1        2017    05  21     7946                          Moana       0   \n",
       "2        2017    08  10     7418           The Mermaid Princess       0   \n",
       "3        2017    07  26    19307           The Mermaid Princess       0   \n",
       "4        2017    07  07    15860                      Churchill       0   \n",
       "...       ...   ...  ..      ...                            ...     ...   \n",
       "3598602  2017    08  22    10486                          Table       0   \n",
       "3598603  2017    08  22    10486  Newsies: the Broadway Musical       0   \n",
       "3598604  2018    01  31     3674  Dragon Ball Z: Resurrection F       0   \n",
       "3598605  2017    09  19      717                          Table       0   \n",
       "3598606  2017    10  30      717                  Unforgettable       0   \n",
       "\n",
       "         episode             movie/episode_name  duration_seconds  \\\n",
       "0              0                     100 treets                40   \n",
       "1              0                          Moana                17   \n",
       "2              0           The Mermaid Princess                 8   \n",
       "3              0           The Mermaid Princess                76   \n",
       "4              0                      Churchill                87   \n",
       "...          ...                            ...               ...   \n",
       "3598602        0                          Table                 8   \n",
       "3598603        0  Newsies: the Broadway Musical                 3   \n",
       "3598604        0  Dragon Ball Z: Resurrection F                 7   \n",
       "3598605        0                          Table                97   \n",
       "3598606        0                  Unforgettable                95   \n",
       "\n",
       "        program_class program_genre  series_title  hd  \\\n",
       "0               MOVIE         Drama             0   0   \n",
       "1               MOVIE     Animation             0   1   \n",
       "2               MOVIE     Animation             0   1   \n",
       "3               MOVIE     Animation             0   1   \n",
       "4               MOVIE     Biography             0   1   \n",
       "...               ...           ...           ...  ..   \n",
       "3598602         MOVIE        Comedy             0   1   \n",
       "3598603         MOVIE        Family             0   1   \n",
       "3598604         MOVIE     Animation             0   0   \n",
       "3598605         MOVIE        Comedy             0   1   \n",
       "3598606         MOVIE         Drama             0   1   \n",
       "\n",
       "                                           program_desc  runtime  \\\n",
       "0                                Drama Movie100 Streets   4800.0   \n",
       "1                             Animation MovieMoana (HD)   4800.0   \n",
       "2              Animation MovieThe Mermaid Princess (HD)   4800.0   \n",
       "3              Animation MovieThe Mermaid Princess (HD)   4800.0   \n",
       "4                         Biography MovieChurchill (HD)   4800.0   \n",
       "...                                                 ...      ...   \n",
       "3598602                       Comedy MovieTable 19 (HD)   4800.0   \n",
       "3598603  Family MovieNewsies: the Broadway Musical (HD)   4800.0   \n",
       "3598604    Animation MovieDragon Ball Z: Resurrection F   4800.0   \n",
       "3598605                       Comedy MovieTable 19 (HD)   4800.0   \n",
       "3598606                   Drama MovieUnforgettable (HD)   4800.0   \n",
       "\n",
       "         number_views  Like_it?  \n",
       "0                3756         0  \n",
       "1               23903         0  \n",
       "2               21167         0  \n",
       "3               21167         0  \n",
       "4                2857         0  \n",
       "...               ...       ...  \n",
       "3598602          5205         0  \n",
       "3598603           372         0  \n",
       "3598604          8312         0  \n",
       "3598605          5205         0  \n",
       "3598606         11515         0  \n",
       "\n",
       "[3397189 rows x 17 columns]"
      ]
     },
     "execution_count": 29,
     "metadata": {},
     "output_type": "execute_result"
    }
   ],
   "source": [
    "df_0"
   ]
  },
  {
   "cell_type": "markdown",
   "id": "f2636a08",
   "metadata": {},
   "source": [
    "## apriori"
   ]
  },
  {
   "cell_type": "code",
   "execution_count": 30,
   "id": "047c7f8a",
   "metadata": {
    "scrolled": false
   },
   "outputs": [],
   "source": [
    "from apyori import apriori"
   ]
  },
  {
   "cell_type": "code",
   "execution_count": 31,
   "id": "75bf1870",
   "metadata": {},
   "outputs": [],
   "source": [
    "a=df_0[(df_0['Like_it?']== 1)].groupby(['user_id', 'movie/series_name'])[['Like_it?']].sum().reset_index()"
   ]
  },
  {
   "cell_type": "code",
   "execution_count": 32,
   "id": "077b5bc1",
   "metadata": {},
   "outputs": [
    {
     "data": {
      "text/html": [
       "<div>\n",
       "<style scoped>\n",
       "    .dataframe tbody tr th:only-of-type {\n",
       "        vertical-align: middle;\n",
       "    }\n",
       "\n",
       "    .dataframe tbody tr th {\n",
       "        vertical-align: top;\n",
       "    }\n",
       "\n",
       "    .dataframe thead th {\n",
       "        text-align: right;\n",
       "    }\n",
       "</style>\n",
       "<table border=\"1\" class=\"dataframe\">\n",
       "  <thead>\n",
       "    <tr style=\"text-align: right;\">\n",
       "      <th></th>\n",
       "      <th>user_id</th>\n",
       "      <th>movie/series_name</th>\n",
       "      <th>Like_it?</th>\n",
       "    </tr>\n",
       "  </thead>\n",
       "  <tbody>\n",
       "    <tr>\n",
       "      <th>0</th>\n",
       "      <td>5</td>\n",
       "      <td>In the Night Garden</td>\n",
       "      <td>6</td>\n",
       "    </tr>\n",
       "    <tr>\n",
       "      <th>1</th>\n",
       "      <td>5</td>\n",
       "      <td>Oscar's Oasis</td>\n",
       "      <td>7</td>\n",
       "    </tr>\n",
       "    <tr>\n",
       "      <th>2</th>\n",
       "      <td>5</td>\n",
       "      <td>Pingu</td>\n",
       "      <td>13</td>\n",
       "    </tr>\n",
       "    <tr>\n",
       "      <th>3</th>\n",
       "      <td>5</td>\n",
       "      <td>Teletubbies</td>\n",
       "      <td>29</td>\n",
       "    </tr>\n",
       "    <tr>\n",
       "      <th>4</th>\n",
       "      <td>8</td>\n",
       "      <td>Youm Maloosh Lazma</td>\n",
       "      <td>1</td>\n",
       "    </tr>\n",
       "  </tbody>\n",
       "</table>\n",
       "</div>"
      ],
      "text/plain": [
       "   user_id    movie/series_name  Like_it?\n",
       "0        5  In the Night Garden         6\n",
       "1        5        Oscar's Oasis         7\n",
       "2        5                Pingu        13\n",
       "3        5          Teletubbies        29\n",
       "4        8   Youm Maloosh Lazma         1"
      ]
     },
     "execution_count": 32,
     "metadata": {},
     "output_type": "execute_result"
    }
   ],
   "source": [
    "a.head()"
   ]
  },
  {
   "cell_type": "code",
   "execution_count": 33,
   "id": "eb09e3ce",
   "metadata": {},
   "outputs": [
    {
     "data": {
      "text/plain": [
       "(74815, 3)"
      ]
     },
     "execution_count": 33,
     "metadata": {},
     "output_type": "execute_result"
    }
   ],
   "source": [
    "a.shape"
   ]
  },
  {
   "cell_type": "code",
   "execution_count": 35,
   "id": "9b63dd81",
   "metadata": {},
   "outputs": [],
   "source": [
    "transactions = []\n",
    "listt=[]\n",
    "for i in range(0, a.shape[0]-1):\n",
    "    listt.append(str(a.values[i, 1]))\n",
    "    if (a.values[i, 0]) != (a.values[i+1, 0]):\n",
    "            transactions.append(listt)\n",
    "            listt=[]"
   ]
  },
  {
   "cell_type": "code",
   "execution_count": 36,
   "id": "be6f522a",
   "metadata": {},
   "outputs": [],
   "source": [
    "rule = apriori(transactions, min_support = 0.003, min_confidence = 0.2, min_lift = 3)"
   ]
  },
  {
   "cell_type": "code",
   "execution_count": null,
   "id": "8c3d9603",
   "metadata": {},
   "outputs": [],
   "source": [
    "output = list(rule) # returns a non-tabular output\n",
    "# putting output into a pandas dataframe\n",
    "def inspect(output):\n",
    "    lhs         = [tuple(result[2][0][0])[0] for result in output]\n",
    "    rhs         = [tuple(result[2][0][1])[0] for result in output]\n",
    "    support    = [result[1] for result in output]\n",
    "    confidence = [result[2][0][2] for result in output]\n",
    "    lift       = [result[2][0][3] for result in output]\n",
    "    return list(zip(lhs, rhs, support, confidence, lift))\n",
    "output_DataFrame = pd.DataFrame(inspect(output), columns = ['Left_Hand_Side', 'Right_Hand_Side', 'Support', 'Confidence', 'Lift'])"
   ]
  },
  {
   "cell_type": "code",
   "execution_count": null,
   "id": "4f6ee4c5",
   "metadata": {},
   "outputs": [],
   "source": [
    "output_DataFrame[output_DataFrame.Left_Hand_Side==\"\"].nlargest(n = 10, columns = 'Lift')"
   ]
  },
  {
   "cell_type": "code",
   "execution_count": null,
   "id": "396df356",
   "metadata": {},
   "outputs": [],
   "source": [
    "def movie_recommendation_engine (movie_name):\n",
    "    \n",
    "listofmovies=list(output_DataFrame.Left_Hand_Side.unique())\n",
    "listofmovies"
   ]
  },
  {
   "cell_type": "code",
   "execution_count": null,
   "id": "a9df8ed6",
   "metadata": {},
   "outputs": [],
   "source": [
    "listofmovies=list(output_DataFrame.Left_Hand_Side.unique())\n",
    "listofmovies"
   ]
  },
  {
   "cell_type": "code",
   "execution_count": null,
   "id": "becd4b66",
   "metadata": {},
   "outputs": [],
   "source": [
    "listofmovies=list(output_DataFrame.Left_Hand_Side.unique())"
   ]
  },
  {
   "cell_type": "code",
   "execution_count": null,
   "id": "f47b2386",
   "metadata": {},
   "outputs": [],
   "source": [
    "listofmovies"
   ]
  }
 ],
 "metadata": {
  "kernelspec": {
   "display_name": "Python 3",
   "language": "python",
   "name": "python3"
  },
  "language_info": {
   "codemirror_mode": {
    "name": "ipython",
    "version": 3
   },
   "file_extension": ".py",
   "mimetype": "text/x-python",
   "name": "python",
   "nbconvert_exporter": "python",
   "pygments_lexer": "ipython3",
   "version": "3.9.1"
  }
 },
 "nbformat": 4,
 "nbformat_minor": 5
}
